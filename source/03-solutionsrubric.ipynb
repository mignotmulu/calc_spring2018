{
 "cells": [
  {
   "cell_type": "markdown",
   "metadata": {},
   "source": [
    "# Rubric for Problem Sets\n",
    "\n",
    "We will focus on four areas to determine the quality of solutions in our work.  First and most important is that you are writing your solutions to a reader, and you should be considerate of using devices that help the reader understand your solutions.  The four components follow:\n",
    "\n",
    "- Clearly State the Problem in your own words\n",
    "- Describe the approach to the solution\n",
    "- Show solution method using multiple representations: words, tables, graphs/pictures, formulas, numbers\n",
    "- Summarize and discuss\n",
    "\n",
    "### Goals Today\n",
    "\n",
    "1. Establish Groups\n",
    "2. Finalize Tech\n",
    "3. Problems V - VII\n",
    "4. Feedback - Questions - Student Information\n",
    "5. Homework: \n",
    "  - Problem Set: Complete and write up, submit single group assignment\n",
    "  - Piazza: Post Information and StackExchange Handle\n",
    "  - Anaconda and Jupyter: Download and Open\n",
    "6. Next Class: \n",
    "  - Introduction to Python and Jupyter"
   ]
  }
 ],
 "metadata": {
  "kernelspec": {
   "display_name": "Python 3",
   "language": "python",
   "name": "python3"
  },
  "language_info": {
   "codemirror_mode": {
    "name": "ipython",
    "version": 3
   },
   "file_extension": ".py",
   "mimetype": "text/x-python",
   "name": "python",
   "nbconvert_exporter": "python",
   "pygments_lexer": "ipython3",
   "version": "3.6.3"
  }
 },
 "nbformat": 4,
 "nbformat_minor": 2
}
