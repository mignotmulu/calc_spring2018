{
 "cells": [
  {
   "cell_type": "markdown",
   "metadata": {},
   "source": [
    "# Derivatives and Motion\n",
    "\n",
    "Recall that we have the following relationships between *acceleration, velocity,* and *displacement*:\n",
    "\n",
    "- **acceleration**: rate of change of velocity\n",
    "- **velocity**: rate of change of displacement\n",
    "\n",
    "In the language of calculus and derivatives, this means if we have a function $s(t)$ that represents the displacement of some body, we would express *velocity* and *acceleration* as derivatives:\n",
    "\n",
    "- $s'(t) = v(t) = \\text{velocity}$\n",
    "- $s''(t) = a(t) = \\text{acceleration}$"
   ]
  },
  {
   "cell_type": "markdown",
   "metadata": {},
   "source": [
    "### Problems\n",
    "\n",
    "1. A particle moves in a straight line at a constant velocity of 30 m/s. What is its displacement between $t = 0$ and $t = 5.0$ s?\n",
    "\n",
    "2. A particle moves in a straight line with an initial velocity of 0 m/s and a constant acceleration of 30 m/s2. If $t=0$ at $x=0$, what is the particle’s position at $t = 5$ s?\n",
    "\n",
    "3. A particle moves in a straight line with an initial velocity of 30 m/s and constant acceleration 30 $m/s^2$. (a) What is its displacement at $t = 5$ s? (b) What is its velocity at this same time?\n",
    "\n",
    "4. Freight trains can produce only relatively small accelerations. (a) What is the final velocity of a freight train that accelerates at a rate of 0.0500$m/s^2$ for 8.00 min, starting with an initial velocity of 4.00 m/s? (b) If the train can slow down at a rate of 0.550$m/s^2$, how long will it take to come to a stop from this velocity? (c) How far will it travel in each case?"
   ]
  },
  {
   "cell_type": "code",
   "execution_count": 1,
   "metadata": {},
   "outputs": [],
   "source": [
    "%matplotlib inline\n",
    "import matplotlib.pyplot as plt\n",
    "import numpy as np\n",
    "import sympy as sy"
   ]
  },
  {
   "cell_type": "code",
   "execution_count": 2,
   "metadata": {},
   "outputs": [],
   "source": [
    "t = [i for i in range(0, 5)]\n",
    "v = [30 for i in range(0, 5)]"
   ]
  },
  {
   "cell_type": "code",
   "execution_count": 3,
   "metadata": {},
   "outputs": [
    {
     "data": {
      "text/plain": [
       "[<matplotlib.lines.Line2D at 0x115af2e10>]"
      ]
     },
     "execution_count": 3,
     "metadata": {},
     "output_type": "execute_result"
    },
    {
     "data": {
      "image/png": "[encoded data removed]",
      "text/plain": [
       "<matplotlib.figure.Figure at 0x112af5b00>"
      ]
     },
     "metadata": {},
     "output_type": "display_data"
    }
   ],
   "source": [
    "plt.plot(t, v, '--o')"
   ]
  },
  {
   "cell_type": "code",
   "execution_count": 6,
   "metadata": {},
   "outputs": [],
   "source": [
    "s = []\n",
    "for i in range(0, 5):\n",
    "    disp = v[i]*t[i]\n",
    "    s.append(disp)"
   ]
  },
  {
   "cell_type": "code",
   "execution_count": 7,
   "metadata": {},
   "outputs": [
    {
     "data": {
      "text/plain": [
       "[<matplotlib.lines.Line2D at 0x11ec10cc0>]"
      ]
     },
     "execution_count": 7,
     "metadata": {},
     "output_type": "execute_result"
    },
    {
     "data": {
      "image/png": "[encoded data removed]",
      "text/plain": [
       "<matplotlib.figure.Figure at 0x115915da0>"
      ]
     },
     "metadata": {},
     "output_type": "display_data"
    }
   ],
   "source": [
    "plt.plot(t, s, '--o')"
   ]
  },
  {
   "cell_type": "code",
   "execution_count": 8,
   "metadata": {},
   "outputs": [
    {
     "data": {
      "text/plain": [
       "[0, 30, 60, 90, 120]"
      ]
     },
     "execution_count": 8,
     "metadata": {},
     "output_type": "execute_result"
    }
   ],
   "source": [
    "s"
   ]
  },
  {
   "cell_type": "code",
   "execution_count": 86,
   "metadata": {},
   "outputs": [],
   "source": [
    "a = 9.8\n",
    "v0 = 0\n",
    "s0 = 3\n",
    "v = a*t + v0\n",
    "s = 0.5*a*t**2 + v0*t + s0"
   ]
  },
  {
   "cell_type": "code",
   "execution_count": 87,
   "metadata": {},
   "outputs": [],
   "source": [
    "def x(t): return 0.5*ax*t**2 + vx0*t + x0\n",
    "def y(t): return 0.5*ay*t**2 + vy0*t + y0"
   ]
  },
  {
   "cell_type": "code",
   "execution_count": 104,
   "metadata": {},
   "outputs": [],
   "source": [
    "t = np.arange(0, 6, 1)\n",
    "x0 = 0\n",
    "y0 = 0\n",
    "vx0 = 2.1\n",
    "vy0 = 17.1\n",
    "ax = 0\n",
    "ay = -9.8"
   ]
  },
  {
   "cell_type": "code",
   "execution_count": 105,
   "metadata": {},
   "outputs": [
    {
     "data": {
      "text/plain": [
       "[<matplotlib.lines.Line2D at 0x11fc87320>]"
      ]
     },
     "execution_count": 105,
     "metadata": {},
     "output_type": "execute_result"
    },
    {
     "data": {
      "image/png": "[encoded data removed]",
      "text/plain": [
       "<matplotlib.figure.Figure at 0x1201dc550>"
      ]
     },
     "metadata": {},
     "output_type": "display_data"
    }
   ],
   "source": [
    "plt.plot(x(t), y(t), '--o')"
   ]
  },
  {
   "cell_type": "code",
   "execution_count": 107,
   "metadata": {},
   "outputs": [],
   "source": [
    "def proj_plotter(n, ax, ay, vx0, vy0, x0 = 0, y0 = 0):\n",
    "    t = np.arange(0, n, 1)\n",
    "    def x(t): return 0.5*ax*t**2 + vx0*t + x0\n",
    "    def y(t): return 0.5*ay*t**2 + vy0*t + y0\n",
    "    plt.plot(x(t), y(t), '--o')"
   ]
  },
  {
   "cell_type": "code",
   "execution_count": 143,
   "metadata": {},
   "outputs": [
    {
     "data": {
      "application/vnd.jupyter.widget-view+json": {
       "model_id": "eae332ad182e4625b3ecaceed49942a8",
       "version_major": 2,
       "version_minor": 0
      },
      "text/html": [
       "<p>Failed to display Jupyter Widget of type <code>interactive</code>.</p>\n",
       "<p>\n",
       "  If you're reading this message in the Jupyter Notebook or JupyterLab Notebook, it may mean\n",
       "  that the widgets JavaScript is still loading. If this message persists, it\n",
       "  likely means that the widgets JavaScript library is either not installed or\n",
       "  not enabled. See the <a href=\"https://ipywidgets.readthedocs.io/en/stable/user_install.html\">Jupyter\n",
       "  Widgets Documentation</a> for setup instructions.\n",
       "</p>\n",
       "<p>\n",
       "  If you're reading this message in another frontend (for example, a static\n",
       "  rendering on GitHub or <a href=\"https://nbviewer.jupyter.org/\">NBViewer</a>),\n",
       "  it may mean that your frontend doesn't currently support widgets.\n",
       "</p>\n"
      ],
      "text/plain": [
       "interactive(children=(IntSlider(value=0, description='n', max=20), IntSlider(value=5, description='ax', max=15, min=-5), IntSlider(value=5, description='ay', max=15, min=-5), IntSlider(value=5, description='vx0', max=15, min=-5), IntSlider(value=5, description='vy0', max=15, min=-5), IntSlider(value=0, description='x0', max=1), IntSlider(value=0, description='y0', max=1), Output()), _dom_classes=('widget-interact',))"
      ]
     },
     "metadata": {},
     "output_type": "display_data"
    },
    {
     "data": {
      "text/plain": [
       "<function __main__.proj_plotter>"
      ]
     },
     "execution_count": 143,
     "metadata": {},
     "output_type": "execute_result"
    }
   ],
   "source": [
    "interact(proj_plotter, n = widgets.IntSlider(0, 0, 20, 1), ax = 5, ay = 5, vx0 = 5, vy0 = 5)"
   ]
  },
  {
   "cell_type": "markdown",
   "metadata": {},
   "source": [
    "### Projectile Motion\n",
    "\n",
    "The import of the physical interpretation of motion is important here.  We need to recognize that we operate under the assumption that the horizontal and vertical components of motion are independent.  Thus, in the instance of particles in motion on Earth, we have a universal constant of gravitation acting vertically but this motion is independent of the horizontal motion.\n",
    "\n",
    "![](https://media.the-digital-picture.com/Images/News/2016/Stroboscopic-Flash-Example-Ping-Pong-Ball.jpg)"
   ]
  },
  {
   "cell_type": "markdown",
   "metadata": {},
   "source": [
    "To represent this, we will use **parametric equations** where we consider the $x$ and $y$ motion independently in terms of a third variable time.  For example, imagine we have the motion of a particle describe as $s(x) = -x^2 + 15x$.  I can consider $x$ as the same as some time $t$, and thus:\n",
    "\n",
    "$$ x(t) = t $$\n",
    "$$ y(t) = -t^2 + 15t$$"
   ]
  },
  {
   "cell_type": "markdown",
   "metadata": {},
   "source": [
    "### Modeling a Particle in Motion\n",
    "\n",
    "We will use the javascript library `p5.js` to play with animating motion.  To begin, let's open the editor online at https://alpha.editor.p5js.org .  You have three goals.  First, to make and describe a particle moving with no acceleration.  Then, you should model a particle moving due to acceleration due to gravity.  Finally, you should model a projectile that is fired and affected by gravity."
   ]
  },
  {
   "cell_type": "markdown",
   "metadata": {},
   "source": [
    "### The Slow Moving Ball"
   ]
  },
  {
   "cell_type": "code",
   "execution_count": 83,
   "metadata": {},
   "outputs": [
    {
     "data": {
      "text/html": [
       "<center>\n",
       "<iframe src=\"https://alpha.editor.p5js.org/embed/HJ1fjdS9z\" width = 400 height = 400></iframe>\n",
       "</center>"
      ],
      "text/plain": [
       "<IPython.core.display.HTML object>"
      ]
     },
     "metadata": {},
     "output_type": "display_data"
    }
   ],
   "source": [
    "%%HTML\n",
    "<center>\n",
    "<iframe src=\"https://alpha.editor.p5js.org/embed/HJ1fjdS9z\" width = 400 height = 400></iframe>\n",
    "</center>"
   ]
  },
  {
   "cell_type": "markdown",
   "metadata": {},
   "source": [
    "### The Perpetually Bouncing Ball"
   ]
  },
  {
   "cell_type": "code",
   "execution_count": 84,
   "metadata": {},
   "outputs": [
    {
     "data": {
      "text/html": [
       "<center>\n",
       "<iframe src=\"https://alpha.editor.p5js.org/embed/BJ6WpOB9f\" width = 400 height = 400></iframe>\n",
       "</center>"
      ],
      "text/plain": [
       "<IPython.core.display.HTML object>"
      ]
     },
     "metadata": {},
     "output_type": "display_data"
    }
   ],
   "source": [
    "%%HTML\n",
    "<center>\n",
    "<iframe src=\"https://alpha.editor.p5js.org/embed/BJ6WpOB9f\" width = 400 height = 400></iframe>\n",
    "</center>"
   ]
  },
  {
   "cell_type": "code",
   "execution_count": 85,
   "metadata": {},
   "outputs": [
    {
     "data": {
      "text/html": [
       "<center>\n",
       "<iframe src=\"https://alpha.editor.p5js.org/embed/SJSvytS9M\" width = 400 height = 400 ></iframe>\n",
       "</center>"
      ],
      "text/plain": [
       "<IPython.core.display.HTML object>"
      ]
     },
     "metadata": {},
     "output_type": "display_data"
    }
   ],
   "source": [
    "%%HTML\n",
    "<center>\n",
    "<iframe src=\"https://alpha.editor.p5js.org/embed/SJSvytS9M\" width = 400 height = 400 ></iframe>\n",
    "</center>"
   ]
  },
  {
   "cell_type": "markdown",
   "metadata": {},
   "source": [
    "### Problems\n",
    "\n",
    "1. Model an object moving with constant velocity in the vertical, horizontal, and diagonal direction.  Express this with equations that use calculus notation.\n",
    "\n",
    "2. Model an object moving with constant acceleration in the vertical, horizontal, and diagonal direction.  Express this with equations that use calculus notation.\n",
    "\n",
    "3. Model an object rolling down a hill and off a table.  Find a picture of Galileo and put it in your animation somewhere."
   ]
  }
 ],
 "metadata": {
  "kernelspec": {
   "display_name": "Python 3",
   "language": "python",
   "name": "python3"
  },
  "language_info": {
   "codemirror_mode": {
    "name": "ipython",
    "version": 3
   },
   "file_extension": ".py",
   "mimetype": "text/x-python",
   "name": "python",
   "nbconvert_exporter": "python",
   "pygments_lexer": "ipython3",
   "version": "3.6.4"
  }
 },
 "nbformat": 4,
 "nbformat_minor": 2
}
