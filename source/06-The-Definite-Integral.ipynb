{
 "cells": [
  {
   "cell_type": "markdown",
   "metadata": {},
   "source": [
    "# Using the Definition\n",
    "\n",
    "$$\\int_a^b f(x) dx = R(n) = \\lim n \\rightarrow \\infty (\\frac{b-a}{n})\\sum_{i=1}^n f(a + i\\frac{b-a}{n})$$"
   ]
  },
  {
   "cell_type": "code",
   "execution_count": 1,
   "metadata": {},
   "outputs": [],
   "source": [
    "import sympy as sy"
   ]
  },
  {
   "cell_type": "code",
   "execution_count": 2,
   "metadata": {},
   "outputs": [],
   "source": [
    "x, n = sy.symbols('x n')"
   ]
  },
  {
   "cell_type": "code",
   "execution_count": 3,
   "metadata": {},
   "outputs": [
    {
     "name": "stdout",
     "output_type": "stream",
     "text": [
      " 2    \n",
      "n    n\n",
      "── + ─\n",
      "2    2\n"
     ]
    }
   ],
   "source": [
    "sy.pprint(sy.summation(x, (x, 1,n)))"
   ]
  },
  {
   "cell_type": "code",
   "execution_count": 4,
   "metadata": {},
   "outputs": [
    {
     "name": "stdout",
     "output_type": "stream",
     "text": [
      " 3    2    \n",
      "n    n    n\n",
      "── + ── + ─\n",
      "3    2    6\n"
     ]
    }
   ],
   "source": [
    "sy.pprint(sy.summation(x**2, (x, 1,n)))"
   ]
  },
  {
   "cell_type": "code",
   "execution_count": 5,
   "metadata": {},
   "outputs": [
    {
     "name": "stdout",
     "output_type": "stream",
     "text": [
      " 4    3    2\n",
      "n    n    n \n",
      "── + ── + ──\n",
      "4    2    4 \n"
     ]
    }
   ],
   "source": [
    "sy.pprint(sy.summation(x**3, (x, 1,n)))"
   ]
  },
  {
   "cell_type": "code",
   "execution_count": 6,
   "metadata": {},
   "outputs": [
    {
     "name": "stdout",
     "output_type": "stream",
     "text": [
      " 5    4    3     \n",
      "n    n    n    n \n",
      "── + ── + ── - ──\n",
      "5    2    3    30\n"
     ]
    }
   ],
   "source": [
    "sy.pprint(sy.summation(x**4, (x, 1,n)))"
   ]
  },
  {
   "cell_type": "markdown",
   "metadata": {},
   "source": [
    "### Problem I\n",
    "\n",
    "Use the definition and our summation formulas to evaluate the area under the given function and approximate what happens as $n \\rightarrow \\infty$ on given domain:\n",
    "\n",
    "a. $f(x) = x$ on $[1,4]$\n",
    "\n",
    "b. $g(x) = x^2 - 2x$ on $[2, 4]$\n",
    "\n",
    "c. $h(x) = x^3 - x + 1$ on $[1, 3]$"
   ]
  },
  {
   "cell_type": "markdown",
   "metadata": {},
   "source": [
    "### Problem II\n",
    "\n",
    "We want to examine patterns on the interval $[0,b]$ for polynomial functions.  Let's use the definition to prove the following:\n",
    "\n",
    "a. $\\int_0^b x = \\frac{b^2}{2}$\n",
    "\n",
    "b. $\\int_0^b x^2 = \\frac{b^3}{3}$\n",
    "\n",
    "c. $\\int_0^b x^3 = \\frac{b^4}{4}$"
   ]
  },
  {
   "cell_type": "markdown",
   "metadata": {},
   "source": [
    "### Problem III\n",
    "\n",
    "**Theorem**: Assume that $f(x)$ is continuous on $[a,b]$ and let $F(x)$ be an antiderivative of $f(x)$ on $[a,b]$.  Then \n",
    "\n",
    "$$\\int_a^b f(x) = F(b) - F(a)$$\n",
    "\n",
    "Use the attached [table of integrals](integral-table.pdf) and the theorem above to evaluate the following definite integrals.  \n",
    "\n",
    "a. $\\int_0^2 2x^2 - x ~ dx$\n",
    "\n",
    "b. $\\int_{1/2}^{2} \\ln{x} ~ dx$\n",
    "\n",
    "c. $\\int_0^{2\\pi} \\sin{x} ~ dx$"
   ]
  },
  {
   "cell_type": "markdown",
   "metadata": {},
   "source": [
    "### Problem IV\n",
    "\n",
    "**Interpreting the Integral as Total Change**:\n",
    "\n",
    "Water flows into an empty bucket at a rate of $r(t)$ gallons per second.  How much water is in the bucket after 5 seconds?  If the rate is constant, we would have $0.3 \\times 5 = 1.5$ gallons.  If the rate is not constant, we can interpret the quantity of water as equal to the area under the graph of $r(t)$.\n",
    "\n",
    "a. A survey shows that a mayoral candidate is gaining votes at a rate of $2000t + 150$ votes per day, where $t$ is the number of days since announcing her candidacy.  How many supporters after 90 days?\n",
    "\n",
    "b. A projectile is released with initial (vertical) velocity 100 m/s.  Use the formula $v(t) = 100 - 98t$ for velocity to determine the distance traveled during the first 15 seconds.\n",
    "\n",
    "c. The rate at which water drains from a tank is recorded at half-minute intervals.  Use approximations to estimate the total amount of water drained during the first 3 minutes.  \n",
    "\n",
    "| liters | $t$(min) |\n",
    "| ------ | -------  |\n",
    "| 0      |    50    |\n",
    "|  0.5   |   48     |\n",
    "| 1      |   46     |\n",
    "|   1.5  |    43    |\n",
    "|  2     |    40    |\n",
    "|  2.5   |    39    |\n",
    "|  3     |   36     |"
   ]
  },
  {
   "cell_type": "markdown",
   "metadata": {},
   "source": [
    "### Problem V\n",
    "\n",
    "**Area Between Curves**\n",
    "\n",
    "Use the definite integral to find specified area between two curves.\n",
    "\n",
    "1. Area between $y = x^3 - 2x^2 + 10$ and $y = 3x^2 + 4x - 10$.\n",
    "\n",
    "2. Area between $y = 0.5 x$ and $y = x\\sqrt{1 - x^2}$\n",
    "\n",
    "3. Area between $y = 4 - x^2$ and $y = x^2 - 4$"
   ]
  }
 ],
 "metadata": {
  "kernelspec": {
   "display_name": "Python 3",
   "language": "python",
   "name": "python3"
  },
  "language_info": {
   "codemirror_mode": {
    "name": "ipython",
    "version": 3
   },
   "file_extension": ".py",
   "mimetype": "text/x-python",
   "name": "python",
   "nbconvert_exporter": "python",
   "pygments_lexer": "ipython3",
   "version": "3.6.3"
  }
 },
 "nbformat": 4,
 "nbformat_minor": 2
}
