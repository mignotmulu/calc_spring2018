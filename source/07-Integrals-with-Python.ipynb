{
 "cells": [
  {
   "cell_type": "markdown",
   "metadata": {},
   "source": [
    "# Integration with Python\n",
    "\n",
    "**GOALS**:\n",
    "\n",
    "- Approximate area under curve\n",
    "- Find exact areas under curve\n",
    "- Visualize area under curve\n",
    "\n",
    "**RECALL!**\n",
    "\n",
    "$$\\text{Area} = \\int_a^b f(x) dx = \\lim_{n \\to \\infty} \\frac{b-a}{n} \\sum_{i = 1}^n f(a + i*\\text{width})$$"
   ]
  },
  {
   "cell_type": "code",
   "execution_count": 1,
   "metadata": {},
   "outputs": [],
   "source": [
    "%matplotlib inline\n",
    "import numpy as np\n",
    "import sympy as sy\n",
    "import matplotlib.pyplot as plt"
   ]
  },
  {
   "cell_type": "markdown",
   "metadata": {},
   "source": [
    "### Problem\n",
    "\n",
    "Find area under $f(x) = x^3 - 2x$ on $[0,2]$ with \n",
    "\n",
    "a. 4 rectangles\n",
    "\n",
    "\n",
    "b. $n$ rectangles as $n \\to \\infty$"
   ]
  },
  {
   "cell_type": "code",
   "execution_count": 2,
   "metadata": {},
   "outputs": [],
   "source": [
    "width = (2-0)/4"
   ]
  },
  {
   "cell_type": "code",
   "execution_count": 3,
   "metadata": {},
   "outputs": [
    {
     "data": {
      "text/plain": [
       "[-0.875, -1, 0.375, 4]"
      ]
     },
     "execution_count": 3,
     "metadata": {},
     "output_type": "execute_result"
    }
   ],
   "source": [
    "heights = [(i**3 - 2*i) for i in [.5, 1, 1.5, 2]]\n",
    "heights"
   ]
  },
  {
   "cell_type": "code",
   "execution_count": 4,
   "metadata": {},
   "outputs": [
    {
     "data": {
      "text/plain": [
       "[-0.4375, -0.5, 0.1875, 2.0]"
      ]
     },
     "execution_count": 4,
     "metadata": {},
     "output_type": "execute_result"
    }
   ],
   "source": [
    "areas = [i*width for i in heights]\n",
    "areas"
   ]
  },
  {
   "cell_type": "code",
   "execution_count": 5,
   "metadata": {},
   "outputs": [
    {
     "data": {
      "text/plain": [
       "1.25"
      ]
     },
     "execution_count": 5,
     "metadata": {},
     "output_type": "execute_result"
    }
   ],
   "source": [
    "sum(areas)"
   ]
  },
  {
   "cell_type": "code",
   "execution_count": 6,
   "metadata": {},
   "outputs": [],
   "source": [
    "x = np.linspace(0,2, 100)"
   ]
  },
  {
   "cell_type": "code",
   "execution_count": 7,
   "metadata": {},
   "outputs": [
    {
     "data": {
      "text/plain": [
       "array([ 0.        ,  0.02020202,  0.04040404,  0.06060606,  0.08080808,\n",
       "        0.1010101 ,  0.12121212,  0.14141414,  0.16161616,  0.18181818,\n",
       "        0.2020202 ,  0.22222222,  0.24242424,  0.26262626,  0.28282828,\n",
       "        0.3030303 ,  0.32323232,  0.34343434,  0.36363636,  0.38383838,\n",
       "        0.4040404 ,  0.42424242,  0.44444444,  0.46464646,  0.48484848,\n",
       "        0.50505051,  0.52525253,  0.54545455,  0.56565657,  0.58585859,\n",
       "        0.60606061,  0.62626263,  0.64646465,  0.66666667,  0.68686869,\n",
       "        0.70707071,  0.72727273,  0.74747475,  0.76767677,  0.78787879,\n",
       "        0.80808081,  0.82828283,  0.84848485,  0.86868687,  0.88888889,\n",
       "        0.90909091,  0.92929293,  0.94949495,  0.96969697,  0.98989899,\n",
       "        1.01010101,  1.03030303,  1.05050505,  1.07070707,  1.09090909,\n",
       "        1.11111111,  1.13131313,  1.15151515,  1.17171717,  1.19191919,\n",
       "        1.21212121,  1.23232323,  1.25252525,  1.27272727,  1.29292929,\n",
       "        1.31313131,  1.33333333,  1.35353535,  1.37373737,  1.39393939,\n",
       "        1.41414141,  1.43434343,  1.45454545,  1.47474747,  1.49494949,\n",
       "        1.51515152,  1.53535354,  1.55555556,  1.57575758,  1.5959596 ,\n",
       "        1.61616162,  1.63636364,  1.65656566,  1.67676768,  1.6969697 ,\n",
       "        1.71717172,  1.73737374,  1.75757576,  1.77777778,  1.7979798 ,\n",
       "        1.81818182,  1.83838384,  1.85858586,  1.87878788,  1.8989899 ,\n",
       "        1.91919192,  1.93939394,  1.95959596,  1.97979798,  2.        ])"
      ]
     },
     "execution_count": 7,
     "metadata": {},
     "output_type": "execute_result"
    }
   ],
   "source": [
    "x"
   ]
  },
  {
   "cell_type": "code",
   "execution_count": 8,
   "metadata": {},
   "outputs": [],
   "source": [
    "def f(x):\n",
    "    return x**3 - 2*x"
   ]
  },
  {
   "cell_type": "code",
   "execution_count": 10,
   "metadata": {},
   "outputs": [
    {
     "data": {
      "text/plain": [
       "4"
      ]
     },
     "execution_count": 10,
     "metadata": {},
     "output_type": "execute_result"
    }
   ],
   "source": [
    "f(2)"
   ]
  },
  {
   "cell_type": "code",
   "execution_count": 11,
   "metadata": {},
   "outputs": [
    {
     "data": {
      "text/plain": [
       "Text(0.5,1,'Area under $f(x) = x^3 - 2x$')"
      ]
     },
     "execution_count": 11,
     "metadata": {},
     "output_type": "execute_result"
    },
    {
     "data": {
      "image/png": "[encoded data removed]",
      "text/plain": [
       "<matplotlib.figure.Figure at 0x10c31a9e8>"
      ]
     },
     "metadata": {},
     "output_type": "display_data"
    }
   ],
   "source": [
    "plt.plot(x, f(x))\n",
    "plt.fill_between(x, f(x), alpha = 0.3)\n",
    "plt.title(\"Area under $f(x) = x^3 - 2x$\")"
   ]
  },
  {
   "cell_type": "code",
   "execution_count": 12,
   "metadata": {},
   "outputs": [],
   "source": [
    "x = sy.Symbol('x')"
   ]
  },
  {
   "cell_type": "code",
   "execution_count": 13,
   "metadata": {},
   "outputs": [
    {
     "data": {
      "text/plain": [
       "0"
      ]
     },
     "execution_count": 13,
     "metadata": {},
     "output_type": "execute_result"
    }
   ],
   "source": [
    "sy.integrate(f(x), (x, 0, 2))"
   ]
  },
  {
   "cell_type": "code",
   "execution_count": 14,
   "metadata": {},
   "outputs": [
    {
     "data": {
      "text/plain": [
       "x**4/4 - x**2"
      ]
     },
     "execution_count": 14,
     "metadata": {},
     "output_type": "execute_result"
    }
   ],
   "source": [
    "sy.integrate(f(x))"
   ]
  },
  {
   "cell_type": "code",
   "execution_count": 15,
   "metadata": {},
   "outputs": [
    {
     "data": {
      "text/plain": [
       "0.0"
      ]
     },
     "execution_count": 15,
     "metadata": {},
     "output_type": "execute_result"
    }
   ],
   "source": [
    "(2**4)/4 - 2**2"
   ]
  },
  {
   "cell_type": "code",
   "execution_count": null,
   "metadata": {},
   "outputs": [],
   "source": []
  }
 ],
 "metadata": {
  "kernelspec": {
   "display_name": "Python 3",
   "language": "python",
   "name": "python3"
  },
  "language_info": {
   "codemirror_mode": {
    "name": "ipython",
    "version": 3
   },
   "file_extension": ".py",
   "mimetype": "text/x-python",
   "name": "python",
   "nbconvert_exporter": "python",
   "pygments_lexer": "ipython3",
   "version": "3.6.3"
  }
 },
 "nbformat": 4,
 "nbformat_minor": 2
}
