{
 "cells": [
  {
   "cell_type": "markdown",
   "metadata": {},
   "source": [
    "# Multidisciplinary Calculus\n",
    "\n",
    "\n",
    "These materials represent my Spring 2018 iteration of an introductory Calculus class, taught to undergraduates from a variety of disciplines, and varied mathematical backgrounds.   My arrangement of material is based on the historical development of Calculus, and I aim to expose students to Calculus in use through a variety of applications.  By gradually incorporating technology and the computer, we aim to support students ability to communicate and present mathematics, but also to support a larger skill set involving the use of computing technology."
   ]
  },
  {
   "cell_type": "markdown",
   "metadata": {},
   "source": [
    "### Structure of Content\n",
    "\n",
    "I envision there being a consistent structure to the three units in my class.  First, we engage with an introductory topic through a paper and pencil problem set.  We then solve these problems on the computer.  Then, we engage with deeper problems with paper and pencil, and again move them to the computer.  Finally, we investigate problems related to an application of interest to particular groups of students.\n",
    "\n",
    "- [Syllabus](01-syllabus.ipynb)"
   ]
  },
  {
   "cell_type": "markdown",
   "metadata": {},
   "source": [
    "### Section I: Integration\n",
    "\n",
    "- [Problem Set I](02-problemsetI.ipynb): Introduction to infinite process through historical problems of approximation.  We discuss the problem with numbers, algorithmic approaches to approximating $\\pi$, $\\sqrt{2}$, and solutions to quadratic equations.  We also begin to investigate summation notation and problems.\n",
    "\n",
    "- [Computer Lab I](04-Lab_I.ipynb): Introduction to Python.  We use iteration and loops to solve earlier approximation problems.  Students use symbolic computing to determine infinite summation formulas.\n",
    "\n",
    "- [Problem Set II](05-RiemannSums.ipynb): Approximating Areas with rectangles, trapezoids, and parabolas. Introduction to Definite Integral. \n",
    "\n",
    "- [Problem Set III](06-The-Definite-Integral.ipynb): Using the Definite Integral to find the Area under curves, area between curves, and interpreting the integral as the net change given a function determined by the rate of change.\n",
    "\n",
    "- [Application I: The Gini Index](0.9_calc_Gini_Index.ipynb): Interpreting the wealth distribution and additional distribution of resources using the Gini Index, aka the ratio of area under a curve representing the perfect distribution of resources and the actual distribution of resources.\n",
    "\n",
    "- [Application II: Consumer Surplus](0.10_calc_consumer_surplus.ipynb): Interpret the area under supply and demand curves in terms of consumer and producer surplus.\n",
    "\n",
    "- [Computer Lab II](): Statistics and Integration.\n",
    "\n",
    "**Examination Paper I**\n",
    "\n",
    "- [Exam I](11-Exam-I.ipynb): Our first problems for the unit on The Definite Integral"
   ]
  },
  {
   "cell_type": "markdown",
   "metadata": {},
   "source": [
    "\n",
    "---\n",
    "\n",
    "**A Note on Structure of Materials**\n",
    "\n",
    "These materials were all developed using Jupyter notebooks.  They are easily viewed through the `nbviewer` platform, and on `ReadtheDocs`.  You may view and download the notebooks, view slideshows of notebooks, interact with the notebooks online, and download hardcopies of the materials in these locations.  \n",
    "\n"
   ]
  },
  {
   "cell_type": "markdown",
   "metadata": {},
   "source": [
    "- **Slideshows**: To view the slideshow of a given notebook click the slideshow button on the `nbviewer` toolbar.\n",
    "\n",
    "![](images/slideshow.png)\n",
    "\n"
   ]
  },
  {
   "cell_type": "markdown",
   "metadata": {},
   "source": [
    "- **Interacting with Notebooks**: I've place links to launch the notebooks using Binder.  This will allow you to interact with and alter the notebook online, however your work will not be saved.  Simply click the `Binder` button at the top of the notebook, wait while the notebook is created, and you may use the notebook interactively online.\n",
    "\n",
    "![](images/binder.png)"
   ]
  },
  {
   "cell_type": "markdown",
   "metadata": {},
   "source": [
    "- **Downloading the Notebooks**: Download and install Anaconda on your computer.  Use the **download** button on the `nbviewer` toolbar.\n",
    "\n",
    "![](images/download.png)"
   ]
  }
 ],
 "metadata": {
  "kernelspec": {
   "display_name": "Python 3",
   "language": "python",
   "name": "python3"
  },
  "language_info": {
   "codemirror_mode": {
    "name": "ipython",
    "version": 3
   },
   "file_extension": ".py",
   "mimetype": "text/x-python",
   "name": "python",
   "nbconvert_exporter": "python",
   "pygments_lexer": "ipython3",
   "version": "3.6.3"
  }
 },
 "nbformat": 4,
 "nbformat_minor": 2
}
