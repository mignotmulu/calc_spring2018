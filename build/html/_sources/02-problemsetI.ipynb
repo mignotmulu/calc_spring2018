{
 "cells": [
  {
   "cell_type": "markdown",
   "metadata": {
    "slideshow": {
     "slide_type": "slide"
    }
   },
   "source": [
    "# Problem Set I\n",
    "\n",
    "**Mathematical Goals**:\n",
    "\n",
    "- Solve problems related to areas \n",
    "- Understand Base number notation\n",
    "- Perform basic operations on numbers including root extraction\n",
    "- Use Pythagorean Theorem to find distances\n",
    "- Solve quadratic equations \n",
    "- Investigate partial sums of series\n",
    "\n",
    "The problems below come from the marvelous text *The Historical Development of Calculus* by C.H. Edwards.\n",
    "\n",
    "**Suggested Reading**:\n",
    "\n",
    "- Chapter 1: *The Historical Development of Calculus*, C.H.Edwards\n",
    "- Chapter 1: *The Origins of Calculus*, David Perkins\n",
    "- *History and Origins of the Calculus*, G.W. Leibniz\n"
   ]
  },
  {
   "cell_type": "markdown",
   "metadata": {
    "slideshow": {
     "slide_type": "slide"
    }
   },
   "source": [
    "### Problem I\n",
    "\n",
    "![](images/section_I/p1.png)\n",
    "\n",
    "Use the images above to explain the formulas for the areas:\n",
    "\n",
    "- of triangles $A = \\frac{1}{2}bh$\n",
    "- of parallelograms $A = bh$\n",
    "- of trapezoids $A = \\frac{1}{2}(b_1 + b_2)h$"
   ]
  },
  {
   "cell_type": "markdown",
   "metadata": {
    "slideshow": {
     "slide_type": "slide"
    }
   },
   "source": [
    "### Problem II\n",
    "\n",
    "An Egyptian Papyrus calculates the area of a quadrilateral by multiplying half the sum of two opposite sides times half the sum of the other two sides.  Is this the correct result for a trapezoid or parallelogram that is not a rectangle?"
   ]
  },
  {
   "cell_type": "markdown",
   "metadata": {
    "slideshow": {
     "slide_type": "slide"
    }
   },
   "source": [
    "### Problem III\n",
    "\n",
    "a. In one of the Rhind papyrus problems the area of a cirle is calculated by squaring 8/9 of its diameter.  Compare this method with the area formula $A = \\pi r^2$ to obtain the Egyptian approximation of $\\pi = 3.16$. \n",
    "b. This approximation to $\\pi$ may have been found by trisecting each side of a square circumscribed about a circle of diameter $d$, and cut off its 4 corners.  Show that the area here would be:\n",
    "\n",
    "$$ A = \\frac{7}{9}d^2 = \\frac{63}{81}d^2 \\approx \\frac{64}{81}d^2 = (\\frac{8}{9}d)^2$$\n",
    "\n",
    "![](images/section_I/p2.png)"
   ]
  },
  {
   "cell_type": "markdown",
   "metadata": {
    "slideshow": {
     "slide_type": "slide"
    }
   },
   "source": [
    "### Problem IV\n",
    "\n",
    "Four copies of a right triangle with legs $a$ and $b$ and hypotenuse $c$ together with a square of edge $c$, are assembled as in Figure 3 to form a square of edge $a + b$.  Explain why the assembled figure *is* a squre, and derive the Pythagorean relation by computing its area in two different ways.\n",
    "\n",
    "![](images/section_I/p3.png)"
   ]
  },
  {
   "cell_type": "markdown",
   "metadata": {
    "slideshow": {
     "slide_type": "slide"
    }
   },
   "source": [
    "### Problem V\n",
    "\n",
    "The Babylonians generally used $3r^2$ for the area of a circle of radius $r$, corresponding to the poor approximation $\\pi \\approx 3$.  Show that this approxiamation could have been obtained by averaging the areas of the iscribed and circumscribed squares shown below.\n",
    "\n",
    "![](images/section_I/p4.png)"
   ]
  },
  {
   "cell_type": "markdown",
   "metadata": {
    "slideshow": {
     "slide_type": "slide"
    }
   },
   "source": [
    "### Problem VI\n",
    "\n",
    "Archimedes took a similar approach to approximating $\\pi$.  He began by inscribing and circumscribing a circle with regular hexagons, and successively doubled the sides in order to, calculuating their perimeters to find upper and lower bounds for $\\pi$.  Beginning with a circle of radius 1 and compute the perimeter for the following shapes:\n",
    "\n",
    "| Polygon | Perimeter |\n",
    "| ------- | --------- |\n",
    "| Inscribed 6 sided |    |\n",
    "| Circumscribed 6 sided |    |\n",
    "| In 12 Sided   |      |\n",
    "| Circum 12 Sided  |     |"
   ]
  },
  {
   "cell_type": "markdown",
   "metadata": {
    "slideshow": {
     "slide_type": "slide"
    }
   },
   "source": [
    "### Problem VII\n",
    "\n",
    "The Babylonians approached square root approximation in a similar iterative methodology like Archimedes use of the method of exhaustion.  To start, suppose we have a guess that we think is close to $\\sqrt{2}$\n",
    "\n",
    "$$x_1 \\approx \\sqrt{2} \\quad \\rightarrow \\quad x_1 \\times x_1 \\approx 2 \\quad \\rightarrow \\quad x_1 \\approx \\frac{2}{x_1}$$\n",
    "\n",
    "Either $x_1$ is a better guess or $\\frac{2}{x}$, but even better still would be the average of the two:\n",
    "\n",
    "$$x_2 = \\frac{1}{2} \\big(x_1 + \\frac{2}{x_1}\\big)$$\n",
    "\n",
    "If we continue in this manner we will get better and better approximations:\n",
    "\n",
    "$$x_3 = \\frac{1}{2} \\big(x_2 + \\frac{2}{x_2}\\big)$$\n",
    "\n",
    "$$x_4 = \\frac{1}{2} \\big(x_3 + \\frac{2}{x_3}\\big)$$\n",
    "\n",
    "$$x_5 = \\frac{1}{2} \\big(x_4 + \\frac{2}{x_4}\\big)$$\n",
    "\n",
    "$$\\vdots$$\n",
    "\n",
    "$$x_{n+1} = \\frac{1}{2} \\big(x_n + \\frac{2}{x_n}\\big)$$\n",
    "\n",
    "Follow the Babylonians method to approximate $\\sqrt{2}$ through $x_5$.  Repeat for $\\sqrt{3}$."
   ]
  },
  {
   "cell_type": "markdown",
   "metadata": {
    "slideshow": {
     "slide_type": "slide"
    }
   },
   "source": [
    "### Problem VIII\n",
    "\n",
    "The Arabic mathematician Al - Khowarizmi's introduced the base 10 numeration system to popular audiences in his writing.  Here, collections of groups of 10 items were combined with positional notation and zero to make our familiar numeration system.  For example, we would write 13,285 as\n",
    "\n",
    "$$13285 = 1*10^4 + 3*10^3 + 2*10^2 + 8*10^1 + 5*10^0$$\n",
    "\n",
    "Consider groupings different than base 10 for the following questions:\n",
    "\n",
    "1. How many numerals are required for a base 5 numeration system?\n",
    "2. Can you express the base 10 numbers 360, 78, 35, and 23 in base 5 notation? (Ex 10 base 10 = $20_5$(base 5))\n",
    "3. 0.3012 stands for $$3/10 + 0/10^2 + 1/10^3 + 2/10^4$$.  Write the same number as a decimal in base 5."
   ]
  },
  {
   "cell_type": "markdown",
   "metadata": {
    "slideshow": {
     "slide_type": "slide"
    }
   },
   "source": [
    "### Problem IX\n",
    "\n",
    "Al - Khowarizimi also discussed an approach to solving quadratic equations such as $x^2 + 10x = 39$.  According to Edwards, his solution was\n",
    "\n",
    "- Take half the number of roots, that is, five, and multply this by itself to obtain twenty-five.  \n",
    "- Add this to the thiry-nine, giving sixty-four.  \n",
    "- Take the square root, or eight, and subtract from it half the number of roots (five).\n",
    "- The result, 3, is the required root.\n",
    "\n",
    "![](images/section_I/p5.png)\n",
    "\n",
    "Solve the equation $x^2 + 8x = 65$ following a similar construction to that above."
   ]
  },
  {
   "cell_type": "markdown",
   "metadata": {
    "slideshow": {
     "slide_type": "slide"
    }
   },
   "source": [
    "### Problem X\n",
    "\n",
    "The images below help to understand the value of expressions like:\n",
    "\n",
    "$$ 1 + 2 + 3 + 4 + ... + (n-1) + n = $$\n",
    "\n",
    "![](images/section_I/p6.png)\n",
    "\n",
    "1. Find the sum when $n = 5$\n",
    "2. Find the sum when $n = 10$\n",
    "3. Is there a way to use the image below to understand the sum when $n = 100$?\n",
    "![](images/section_I/p7.png)"
   ]
  },
  {
   "cell_type": "markdown",
   "metadata": {
    "slideshow": {
     "slide_type": "slide"
    }
   },
   "source": [
    "### Problem XI\n",
    "\n",
    "In the seventeenth century, Leibniz introduced modern summation notation.  The previous problems sum would be written as\n",
    "\n",
    "$$\\sum_{i = 1}^n i $$\n",
    "\n",
    "which indicated we are adding ($\\sum$), starting with an index of 1 ($i = 1$), and the things we are adding are simply the indices ($i$).  Sometimes, we recognize patterns in the partial sums of terms as a way to understand the general approach.  Consider the summation\n",
    "\n",
    "$$\\sum_{i = 1}^n i^3$$\n",
    "\n",
    "Fill in the table with the following partial sums.  Do you see a pattern?  Describe it.\n",
    "\n",
    "| $n$  |  Partial Sum $\\sum_{i = 1}^n i^3$ |\n",
    "| ---- | --------------------------------- |\n",
    "|  1   |                     |\n",
    "| 2    |           |\n",
    "|  3   |          |\n",
    "|  4   |            |\n",
    "| 10   |        |\n",
    "| j    |         |\n",
    "\n"
   ]
  }
 ],
 "metadata": {
  "kernelspec": {
   "display_name": "Python 3",
   "language": "python",
   "name": "python3"
  },
  "language_info": {
   "codemirror_mode": {
    "name": "ipython",
    "version": 3
   },
   "file_extension": ".py",
   "mimetype": "text/x-python",
   "name": "python",
   "nbconvert_exporter": "python",
   "pygments_lexer": "ipython3",
   "version": "3.6.3"
  }
 },
 "nbformat": 4,
 "nbformat_minor": 2
}
