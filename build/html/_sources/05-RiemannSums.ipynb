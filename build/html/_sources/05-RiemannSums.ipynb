{
 "cells": [
  {
   "cell_type": "markdown",
   "metadata": {},
   "source": [
    "# Riemann Sums\n",
    "\n",
    "![](images/riemann.png)"
   ]
  },
  {
   "cell_type": "markdown",
   "metadata": {},
   "source": [
    "### Problem I\n",
    "\n",
    "The figure above shows the graph of a function $f$ on the interval $[a,b]$.  We want to write an expression for the sum of the areas of the four rectangles that will depend only on the function $f$ and the interval endpoints $a$ and $b$.  \n",
    "\n",
    "a. The four subintervals that form the bases of the rectangles along the $x$-axis all have the same length; express it in terms of $a$ and $b$.  \n",
    "\n",
    "b. How many subinterval lengths is $x_2$ away from $a = x_0$?\n",
    "\n",
    "c. Write expressions for $x_1, x_2, x_3$, and $x_4$ in terms of $a$ and $b$.  \n",
    "\n",
    "d. What are the heights of the four rectangles?\n",
    "\n",
    "e. Multiply the heights by the lengths, add the four terms, and call the sum $R(4)$\n",
    "\n",
    "f. Generalize your work to obtain an expression for any number of rectangles $n$ .  \n",
    "\n",
    "g. Write your expression using summation notation."
   ]
  },
  {
   "cell_type": "markdown",
   "metadata": {},
   "source": [
    "### Problem II\n",
    "\n",
    "a. Consider the function $f(x) = 3x$ on the interval $[1,5]$.  Apply your formula above to find $R(4)$.\n",
    "\n",
    "b. Sketch a graph of $f$.  Use geometry to find the exact area."
   ]
  },
  {
   "cell_type": "markdown",
   "metadata": {},
   "source": [
    "### Problem III\n",
    "\n",
    "a. Consider the function $f(x) = \\frac{1}{\\sqrt{x}}$ on the interval $[0.1, 10]$.  Plot the function, and use our methods from above to approximate the area under the curve using 4 rectangles."
   ]
  },
  {
   "cell_type": "markdown",
   "metadata": {},
   "source": [
    "### Problem IV\n",
    "\n",
    "a. Consider the function $f(x) = 4-x^2$ on the interval $[-2,2]$.  Plot the curve and approximate the area using 8 rectangles.  \n",
    "\n",
    "b. Consider $f(x) = 3x$ on $[-4,2]$ with 12 rectangles.\n",
    "\n",
    "c. Consider $f(x) = 3x^2 - 2x - 14$ on $[2,3]$ with 4 rectangles.  "
   ]
  }
 ],
 "metadata": {
  "kernelspec": {
   "display_name": "Python 3",
   "language": "python",
   "name": "python3"
  },
  "language_info": {
   "codemirror_mode": {
    "name": "ipython",
    "version": 3
   },
   "file_extension": ".py",
   "mimetype": "text/x-python",
   "name": "python",
   "nbconvert_exporter": "python",
   "pygments_lexer": "ipython3",
   "version": "3.6.3"
  }
 },
 "nbformat": 4,
 "nbformat_minor": 2
}
